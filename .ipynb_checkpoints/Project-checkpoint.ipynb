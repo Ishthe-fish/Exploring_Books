{
 "cells": [
  {
   "cell_type": "code",
   "execution_count": 25,
   "id": "f9e688a4-5603-4a50-b8a0-bf3af74d013d",
   "metadata": {},
   "outputs": [],
   "source": [
    "import requests\n",
    "from bs4 import BeautifulSoup\n",
    "import pandas as pd\n",
    "import random"
   ]
  },
  {
   "cell_type": "code",
   "execution_count": 4,
   "id": "1cb8c765-683b-4baa-997e-f8e01849f26d",
   "metadata": {
    "scrolled": true
   },
   "outputs": [
    {
     "name": "stdout",
     "output_type": "stream",
     "text": [
      "Done\n"
     ]
    }
   ],
   "source": [
    "#################################################################3 DATA PREP ########################################################################################\n",
    "# we used 'https://books.toscrape.com/' since its a beginner friendly page\n",
    "\n",
    "\n",
    "#This is the target URL\n",
    "url = 'http://books.toscrape.com/'\n",
    "base_url = \"http://books.toscrape.com/catalogue/page-{}.html\"\n",
    "#Create a list to hold book data\n",
    "books = []\n",
    "\n",
    "\n",
    "for page in range(1,51):#here we will cycle through all the pages\n",
    "    if page == 1:\n",
    "        url\n",
    "    else:\n",
    "        url = base_url.format(page)\n",
    "    \n",
    "    #Here we are fetching the HTML\n",
    "    response = requests.get(url) #This will go get the html page and return a '<Response [200]> ' if successful\n",
    "        # print(response.status_code) #This retunrs a 200 if successful ad a 400 if failed\n",
    "        # print(response.text) #this gets the htsm as a string \n",
    "        # print(response.content) # This provides the raw bytes of the page \n",
    "    soup = BeautifulSoup(response.text, 'html.parser') # Turns raw HTML into a Soup object, which behaves like a tree of HTML tags\n",
    "\n",
    "    # Find all book containers on the page\n",
    "    for book in soup.find_all(\"article\", class_=\"product_pod\"):                  #This is used to find all the book containers\n",
    "        title = book.h3.a[\"title\"]                                               #drilling down into the  <h3><a> tags to find the title\n",
    "        price = book.find(\"p\", class_=\"price_color\").text.strip()                # Here we find the price for the book and then get the text, strip it, and remove the E\n",
    "        price = price.replace(\"£\", \"\").replace(\",\", \"\").replace('Â','')\n",
    "        availability = book.find(\"p\", class_=\"instock availability\").text.strip() \n",
    "        rating = book.p[\"class\"][1]                                              #This pulls the rating in a list ['star-rating', 'Three'] then we ask for index 1\n",
    "    \n",
    "        books.append({\n",
    "            \"Title\": title,\n",
    "            \"Price (GBP)\": float(price),\n",
    "            \"Availability\": availability,\n",
    "            \"Rating\": rating\n",
    "        })\n",
    "        \n",
    "# Create a DataFrame\n",
    "print('Done')\n"
   ]
  },
  {
   "cell_type": "code",
   "execution_count": 5,
   "id": "bb62156a-bc29-4625-aa5e-d12afbab5029",
   "metadata": {},
   "outputs": [],
   "source": [
    "df = pd.DataFrame(books)\n",
    "\n",
    "# Add a new column for the row index\n",
    "df['Row'] = df.index"
   ]
  },
  {
   "cell_type": "code",
   "execution_count": 7,
   "id": "30bdbd99-8dc3-4cf3-a1c4-8ffbb4981e83",
   "metadata": {},
   "outputs": [
    {
     "name": "stdout",
     "output_type": "stream",
     "text": [
      "<class 'pandas.core.frame.DataFrame'>\n",
      "RangeIndex: 1000 entries, 0 to 999\n",
      "Data columns (total 5 columns):\n",
      " #   Column        Non-Null Count  Dtype  \n",
      "---  ------        --------------  -----  \n",
      " 0   Title         1000 non-null   object \n",
      " 1   Price (GBP)   1000 non-null   float64\n",
      " 2   Availability  1000 non-null   object \n",
      " 3   Rating        1000 non-null   object \n",
      " 4   Row           1000 non-null   int64  \n",
      "dtypes: float64(1), int64(1), object(3)\n",
      "memory usage: 39.2+ KB\n"
     ]
    },
    {
     "data": {
      "text/html": [
       "<div>\n",
       "<style scoped>\n",
       "    .dataframe tbody tr th:only-of-type {\n",
       "        vertical-align: middle;\n",
       "    }\n",
       "\n",
       "    .dataframe tbody tr th {\n",
       "        vertical-align: top;\n",
       "    }\n",
       "\n",
       "    .dataframe thead th {\n",
       "        text-align: right;\n",
       "    }\n",
       "</style>\n",
       "<table border=\"1\" class=\"dataframe\">\n",
       "  <thead>\n",
       "    <tr style=\"text-align: right;\">\n",
       "      <th></th>\n",
       "      <th>Title</th>\n",
       "      <th>Price (GBP)</th>\n",
       "      <th>Availability</th>\n",
       "      <th>Rating</th>\n",
       "      <th>Row</th>\n",
       "    </tr>\n",
       "  </thead>\n",
       "  <tbody>\n",
       "    <tr>\n",
       "      <th>0</th>\n",
       "      <td>A Light in the Attic</td>\n",
       "      <td>51.77</td>\n",
       "      <td>In stock</td>\n",
       "      <td>Three</td>\n",
       "      <td>0</td>\n",
       "    </tr>\n",
       "    <tr>\n",
       "      <th>1</th>\n",
       "      <td>Tipping the Velvet</td>\n",
       "      <td>53.74</td>\n",
       "      <td>In stock</td>\n",
       "      <td>One</td>\n",
       "      <td>1</td>\n",
       "    </tr>\n",
       "    <tr>\n",
       "      <th>2</th>\n",
       "      <td>Soumission</td>\n",
       "      <td>50.10</td>\n",
       "      <td>In stock</td>\n",
       "      <td>One</td>\n",
       "      <td>2</td>\n",
       "    </tr>\n",
       "    <tr>\n",
       "      <th>3</th>\n",
       "      <td>Sharp Objects</td>\n",
       "      <td>47.82</td>\n",
       "      <td>In stock</td>\n",
       "      <td>Four</td>\n",
       "      <td>3</td>\n",
       "    </tr>\n",
       "    <tr>\n",
       "      <th>4</th>\n",
       "      <td>Sapiens: A Brief History of Humankind</td>\n",
       "      <td>54.23</td>\n",
       "      <td>In stock</td>\n",
       "      <td>Five</td>\n",
       "      <td>4</td>\n",
       "    </tr>\n",
       "    <tr>\n",
       "      <th>...</th>\n",
       "      <td>...</td>\n",
       "      <td>...</td>\n",
       "      <td>...</td>\n",
       "      <td>...</td>\n",
       "      <td>...</td>\n",
       "    </tr>\n",
       "    <tr>\n",
       "      <th>995</th>\n",
       "      <td>Alice in Wonderland (Alice's Adventures in Won...</td>\n",
       "      <td>55.53</td>\n",
       "      <td>In stock</td>\n",
       "      <td>One</td>\n",
       "      <td>995</td>\n",
       "    </tr>\n",
       "    <tr>\n",
       "      <th>996</th>\n",
       "      <td>Ajin: Demi-Human, Volume 1 (Ajin: Demi-Human #1)</td>\n",
       "      <td>57.06</td>\n",
       "      <td>In stock</td>\n",
       "      <td>Four</td>\n",
       "      <td>996</td>\n",
       "    </tr>\n",
       "    <tr>\n",
       "      <th>997</th>\n",
       "      <td>A Spy's Devotion (The Regency Spies of London #1)</td>\n",
       "      <td>16.97</td>\n",
       "      <td>In stock</td>\n",
       "      <td>Five</td>\n",
       "      <td>997</td>\n",
       "    </tr>\n",
       "    <tr>\n",
       "      <th>998</th>\n",
       "      <td>1st to Die (Women's Murder Club #1)</td>\n",
       "      <td>53.98</td>\n",
       "      <td>In stock</td>\n",
       "      <td>One</td>\n",
       "      <td>998</td>\n",
       "    </tr>\n",
       "    <tr>\n",
       "      <th>999</th>\n",
       "      <td>1,000 Places to See Before You Die</td>\n",
       "      <td>26.08</td>\n",
       "      <td>In stock</td>\n",
       "      <td>Five</td>\n",
       "      <td>999</td>\n",
       "    </tr>\n",
       "  </tbody>\n",
       "</table>\n",
       "<p>1000 rows × 5 columns</p>\n",
       "</div>"
      ],
      "text/plain": [
       "                                                 Title  Price (GBP)  \\\n",
       "0                                 A Light in the Attic        51.77   \n",
       "1                                   Tipping the Velvet        53.74   \n",
       "2                                           Soumission        50.10   \n",
       "3                                        Sharp Objects        47.82   \n",
       "4                Sapiens: A Brief History of Humankind        54.23   \n",
       "..                                                 ...          ...   \n",
       "995  Alice in Wonderland (Alice's Adventures in Won...        55.53   \n",
       "996   Ajin: Demi-Human, Volume 1 (Ajin: Demi-Human #1)        57.06   \n",
       "997  A Spy's Devotion (The Regency Spies of London #1)        16.97   \n",
       "998                1st to Die (Women's Murder Club #1)        53.98   \n",
       "999                 1,000 Places to See Before You Die        26.08   \n",
       "\n",
       "    Availability Rating  Row  \n",
       "0       In stock  Three    0  \n",
       "1       In stock    One    1  \n",
       "2       In stock    One    2  \n",
       "3       In stock   Four    3  \n",
       "4       In stock   Five    4  \n",
       "..           ...    ...  ...  \n",
       "995     In stock    One  995  \n",
       "996     In stock   Four  996  \n",
       "997     In stock   Five  997  \n",
       "998     In stock    One  998  \n",
       "999     In stock   Five  999  \n",
       "\n",
       "[1000 rows x 5 columns]"
      ]
     },
     "execution_count": 7,
     "metadata": {},
     "output_type": "execute_result"
    }
   ],
   "source": [
    "df.info()\n",
    "df"
   ]
  },
  {
   "cell_type": "code",
   "execution_count": 8,
   "id": "089a4a56-aab4-4028-8edb-d2f1e325a3ea",
   "metadata": {},
   "outputs": [
    {
     "data": {
      "text/plain": [
       "Title            999\n",
       "Price (GBP)      903\n",
       "Availability       1\n",
       "Rating             5\n",
       "Row             1000\n",
       "dtype: int64"
      ]
     },
     "execution_count": 8,
     "metadata": {},
     "output_type": "execute_result"
    }
   ],
   "source": [
    "# Here I will try to optimize the dataframe by changing the datatypes\n",
    "#we will change the datatypes from object to category which will drop the memory usage.\n",
    "df.nunique()"
   ]
  },
  {
   "cell_type": "code",
   "execution_count": 9,
   "id": "659ec356-2fa4-4192-a0c7-50e5643deb33",
   "metadata": {},
   "outputs": [
    {
     "name": "stdout",
     "output_type": "stream",
     "text": [
      "<class 'pandas.core.frame.DataFrame'>\n",
      "RangeIndex: 1000 entries, 0 to 999\n",
      "Data columns (total 4 columns):\n",
      " #   Column       Non-Null Count  Dtype   \n",
      "---  ------       --------------  -----   \n",
      " 0   Title        1000 non-null   object  \n",
      " 1   Price (GBP)  1000 non-null   float64 \n",
      " 2   Rating       1000 non-null   category\n",
      " 3   Row          1000 non-null   int64   \n",
      "dtypes: category(1), float64(1), int64(1), object(1)\n",
      "memory usage: 24.8+ KB\n"
     ]
    }
   ],
   "source": [
    "# Here we will drop the 'availaility' column too since all these books are instock so we dont need this info.\n",
    "df.drop('Availability', axis=1, inplace =True) \n",
    "df['Rating'] = df['Rating'].astype('category')\n",
    "df.info()"
   ]
  },
  {
   "cell_type": "code",
   "execution_count": 10,
   "id": "9b75fd3f-52f1-47c6-9fee-01aafd251764",
   "metadata": {},
   "outputs": [
    {
     "name": "stdout",
     "output_type": "stream",
     "text": [
      "Memory was improved by 37.0%\n"
     ]
    }
   ],
   "source": [
    "change = round(1-(24.8/39.2),2)*100\n",
    "print('Memory was improved by '+ str(change)+'%')"
   ]
  },
  {
   "cell_type": "code",
   "execution_count": 11,
   "id": "f828c423-7791-4390-974c-6c86786e40e1",
   "metadata": {},
   "outputs": [
    {
     "data": {
      "text/html": [
       "<div>\n",
       "<style scoped>\n",
       "    .dataframe tbody tr th:only-of-type {\n",
       "        vertical-align: middle;\n",
       "    }\n",
       "\n",
       "    .dataframe tbody tr th {\n",
       "        vertical-align: top;\n",
       "    }\n",
       "\n",
       "    .dataframe thead th {\n",
       "        text-align: right;\n",
       "    }\n",
       "</style>\n",
       "<table border=\"1\" class=\"dataframe\">\n",
       "  <thead>\n",
       "    <tr style=\"text-align: right;\">\n",
       "      <th></th>\n",
       "      <th>Row</th>\n",
       "      <th>Title</th>\n",
       "      <th>Rating</th>\n",
       "      <th>Price (GBP)</th>\n",
       "    </tr>\n",
       "  </thead>\n",
       "  <tbody>\n",
       "    <tr>\n",
       "      <th>0</th>\n",
       "      <td>0</td>\n",
       "      <td>A Light in the Attic</td>\n",
       "      <td>Three</td>\n",
       "      <td>51.77</td>\n",
       "    </tr>\n",
       "    <tr>\n",
       "      <th>1</th>\n",
       "      <td>1</td>\n",
       "      <td>Tipping the Velvet</td>\n",
       "      <td>One</td>\n",
       "      <td>53.74</td>\n",
       "    </tr>\n",
       "    <tr>\n",
       "      <th>2</th>\n",
       "      <td>2</td>\n",
       "      <td>Soumission</td>\n",
       "      <td>One</td>\n",
       "      <td>50.10</td>\n",
       "    </tr>\n",
       "  </tbody>\n",
       "</table>\n",
       "</div>"
      ],
      "text/plain": [
       "   Row                 Title Rating  Price (GBP)\n",
       "0    0  A Light in the Attic  Three        51.77\n",
       "1    1    Tipping the Velvet    One        53.74\n",
       "2    2            Soumission    One        50.10"
      ]
     },
     "execution_count": 11,
     "metadata": {},
     "output_type": "execute_result"
    }
   ],
   "source": [
    "# Reordered the DF\n",
    "df = df[['Row','Title','Rating','Price (GBP)']]\n",
    "df.head(3)"
   ]
  },
  {
   "cell_type": "code",
   "execution_count": 12,
   "id": "863c4d81-cc42-416e-9c5d-0f3637f44266",
   "metadata": {},
   "outputs": [],
   "source": [
    "# converting the Rating column to number\n",
    "def convert_to_num(i):\n",
    "    if i == 'One':\n",
    "        return 1\n",
    "    elif i == 'Two':\n",
    "        return 2\n",
    "    elif i == 'Three':\n",
    "        return 3\n",
    "    elif i == 'Four':\n",
    "        return 4\n",
    "    elif i == 'Five':\n",
    "        return 5\n",
    "    else:\n",
    "        return 999\n",
    "\n",
    "df['Rating'] = df['Rating'].apply(convert_to_num)\n"
   ]
  },
  {
   "cell_type": "code",
   "execution_count": 17,
   "id": "e5365ddb-eff2-46ee-901e-9ae2934bca10",
   "metadata": {},
   "outputs": [
    {
     "data": {
      "text/html": [
       "<div>\n",
       "<style scoped>\n",
       "    .dataframe tbody tr th:only-of-type {\n",
       "        vertical-align: middle;\n",
       "    }\n",
       "\n",
       "    .dataframe tbody tr th {\n",
       "        vertical-align: top;\n",
       "    }\n",
       "\n",
       "    .dataframe thead th {\n",
       "        text-align: right;\n",
       "    }\n",
       "</style>\n",
       "<table border=\"1\" class=\"dataframe\">\n",
       "  <thead>\n",
       "    <tr style=\"text-align: right;\">\n",
       "      <th></th>\n",
       "      <th>Row</th>\n",
       "      <th>Title</th>\n",
       "      <th>Rating</th>\n",
       "      <th>Price (GBP)</th>\n",
       "    </tr>\n",
       "  </thead>\n",
       "  <tbody>\n",
       "  </tbody>\n",
       "</table>\n",
       "</div>"
      ],
      "text/plain": [
       "Empty DataFrame\n",
       "Columns: [Row, Title, Rating, Price (GBP)]\n",
       "Index: []"
      ]
     },
     "execution_count": 17,
     "metadata": {},
     "output_type": "execute_result"
    }
   ],
   "source": [
    "df[df['Rating']==999] #This is to ensure we do not have any missing data here or data that was not One -> Five"
   ]
  },
  {
   "cell_type": "code",
   "execution_count": 41,
   "id": "5e505212-9b37-4c6e-8e46-ac810e948363",
   "metadata": {},
   "outputs": [],
   "source": [
    "#this here is spliting these two tables up to simulate seperate tables and requring joins\n",
    "title_info = df[['Row','Title']].copy()\n",
    "rating_info = df[['Row','Rating']].copy()"
   ]
  },
  {
   "cell_type": "code",
   "execution_count": 42,
   "id": "c3e69a18-db85-46ff-8f4b-fb753480ff92",
   "metadata": {},
   "outputs": [],
   "source": [
    "# I will now clean NAS and this will be moved to an earlier step above\n"
   ]
  },
  {
   "cell_type": "code",
   "execution_count": 43,
   "id": "778add1d-191b-4351-a5a4-f7afc2c55cbc",
   "metadata": {},
   "outputs": [
    {
     "data": {
      "text/html": [
       "<div>\n",
       "<style scoped>\n",
       "    .dataframe tbody tr th:only-of-type {\n",
       "        vertical-align: middle;\n",
       "    }\n",
       "\n",
       "    .dataframe tbody tr th {\n",
       "        vertical-align: top;\n",
       "    }\n",
       "\n",
       "    .dataframe thead th {\n",
       "        text-align: right;\n",
       "    }\n",
       "</style>\n",
       "<table border=\"1\" class=\"dataframe\">\n",
       "  <thead>\n",
       "    <tr style=\"text-align: right;\">\n",
       "      <th></th>\n",
       "      <th>Row</th>\n",
       "      <th>Title</th>\n",
       "    </tr>\n",
       "  </thead>\n",
       "  <tbody>\n",
       "    <tr>\n",
       "      <th>0</th>\n",
       "      <td>0</td>\n",
       "      <td>A Light in the Attic</td>\n",
       "    </tr>\n",
       "    <tr>\n",
       "      <th>1</th>\n",
       "      <td>1</td>\n",
       "      <td>Tipping the Velvet</td>\n",
       "    </tr>\n",
       "    <tr>\n",
       "      <th>2</th>\n",
       "      <td>2</td>\n",
       "      <td>Soumission</td>\n",
       "    </tr>\n",
       "    <tr>\n",
       "      <th>3</th>\n",
       "      <td>3</td>\n",
       "      <td>Sharp Objects</td>\n",
       "    </tr>\n",
       "    <tr>\n",
       "      <th>4</th>\n",
       "      <td>4</td>\n",
       "      <td>Sapiens: A Brief History of Humankind</td>\n",
       "    </tr>\n",
       "    <tr>\n",
       "      <th>...</th>\n",
       "      <td>...</td>\n",
       "      <td>...</td>\n",
       "    </tr>\n",
       "    <tr>\n",
       "      <th>995</th>\n",
       "      <td>995</td>\n",
       "      <td>Alice in Wonderland (Alice's Adventures in Won...</td>\n",
       "    </tr>\n",
       "    <tr>\n",
       "      <th>996</th>\n",
       "      <td>996</td>\n",
       "      <td>Ajin: Demi-Human, Volume 1 (Ajin: Demi-Human #1)</td>\n",
       "    </tr>\n",
       "    <tr>\n",
       "      <th>997</th>\n",
       "      <td>997</td>\n",
       "      <td>A Spy's Devotion (The Regency Spies of London #1)</td>\n",
       "    </tr>\n",
       "    <tr>\n",
       "      <th>998</th>\n",
       "      <td>998</td>\n",
       "      <td>1st to Die (Women's Murder Club #1)</td>\n",
       "    </tr>\n",
       "    <tr>\n",
       "      <th>999</th>\n",
       "      <td>999</td>\n",
       "      <td>1,000 Places to See Before You Die</td>\n",
       "    </tr>\n",
       "  </tbody>\n",
       "</table>\n",
       "<p>1000 rows × 2 columns</p>\n",
       "</div>"
      ],
      "text/plain": [
       "     Row                                              Title\n",
       "0      0                               A Light in the Attic\n",
       "1      1                                 Tipping the Velvet\n",
       "2      2                                         Soumission\n",
       "3      3                                      Sharp Objects\n",
       "4      4              Sapiens: A Brief History of Humankind\n",
       "..   ...                                                ...\n",
       "995  995  Alice in Wonderland (Alice's Adventures in Won...\n",
       "996  996   Ajin: Demi-Human, Volume 1 (Ajin: Demi-Human #1)\n",
       "997  997  A Spy's Devotion (The Regency Spies of London #1)\n",
       "998  998                1st to Die (Women's Murder Club #1)\n",
       "999  999                 1,000 Places to See Before You Die\n",
       "\n",
       "[1000 rows x 2 columns]"
      ]
     },
     "execution_count": 43,
     "metadata": {},
     "output_type": "execute_result"
    }
   ],
   "source": [
    "title_info"
   ]
  },
  {
   "cell_type": "code",
   "execution_count": 44,
   "id": "9fe43935-0828-4168-aea8-62a624a6a64f",
   "metadata": {},
   "outputs": [
    {
     "name": "stdout",
     "output_type": "stream",
     "text": [
      "177\n"
     ]
    }
   ],
   "source": [
    "#here will will generate a random number for each one to simulate inventory counts\n",
    "print(random.randint(1, 300))\n",
    "\n",
    "def generate_inventory(i):\n",
    "    return random.randint(1, 300)\n",
    "\n",
    "inventory= title_info['Title'].apply(generate_inventory)\n",
    "title_info['Inventory'] = inventory"
   ]
  },
  {
   "cell_type": "code",
   "execution_count": 45,
   "id": "bbb8f339-979e-41e6-b178-15d35741edc7",
   "metadata": {},
   "outputs": [
    {
     "data": {
      "text/html": [
       "<div>\n",
       "<style scoped>\n",
       "    .dataframe tbody tr th:only-of-type {\n",
       "        vertical-align: middle;\n",
       "    }\n",
       "\n",
       "    .dataframe tbody tr th {\n",
       "        vertical-align: top;\n",
       "    }\n",
       "\n",
       "    .dataframe thead th {\n",
       "        text-align: right;\n",
       "    }\n",
       "</style>\n",
       "<table border=\"1\" class=\"dataframe\">\n",
       "  <thead>\n",
       "    <tr style=\"text-align: right;\">\n",
       "      <th></th>\n",
       "      <th>Row</th>\n",
       "      <th>Title</th>\n",
       "      <th>Inventory</th>\n",
       "    </tr>\n",
       "  </thead>\n",
       "  <tbody>\n",
       "    <tr>\n",
       "      <th>0</th>\n",
       "      <td>0</td>\n",
       "      <td>A Light in the Attic</td>\n",
       "      <td>28</td>\n",
       "    </tr>\n",
       "    <tr>\n",
       "      <th>1</th>\n",
       "      <td>1</td>\n",
       "      <td>Tipping the Velvet</td>\n",
       "      <td>257</td>\n",
       "    </tr>\n",
       "    <tr>\n",
       "      <th>2</th>\n",
       "      <td>2</td>\n",
       "      <td>Soumission</td>\n",
       "      <td>243</td>\n",
       "    </tr>\n",
       "    <tr>\n",
       "      <th>3</th>\n",
       "      <td>3</td>\n",
       "      <td>Sharp Objects</td>\n",
       "      <td>251</td>\n",
       "    </tr>\n",
       "    <tr>\n",
       "      <th>4</th>\n",
       "      <td>4</td>\n",
       "      <td>Sapiens: A Brief History of Humankind</td>\n",
       "      <td>48</td>\n",
       "    </tr>\n",
       "    <tr>\n",
       "      <th>...</th>\n",
       "      <td>...</td>\n",
       "      <td>...</td>\n",
       "      <td>...</td>\n",
       "    </tr>\n",
       "    <tr>\n",
       "      <th>995</th>\n",
       "      <td>995</td>\n",
       "      <td>Alice in Wonderland (Alice's Adventures in Won...</td>\n",
       "      <td>219</td>\n",
       "    </tr>\n",
       "    <tr>\n",
       "      <th>996</th>\n",
       "      <td>996</td>\n",
       "      <td>Ajin: Demi-Human, Volume 1 (Ajin: Demi-Human #1)</td>\n",
       "      <td>184</td>\n",
       "    </tr>\n",
       "    <tr>\n",
       "      <th>997</th>\n",
       "      <td>997</td>\n",
       "      <td>A Spy's Devotion (The Regency Spies of London #1)</td>\n",
       "      <td>285</td>\n",
       "    </tr>\n",
       "    <tr>\n",
       "      <th>998</th>\n",
       "      <td>998</td>\n",
       "      <td>1st to Die (Women's Murder Club #1)</td>\n",
       "      <td>267</td>\n",
       "    </tr>\n",
       "    <tr>\n",
       "      <th>999</th>\n",
       "      <td>999</td>\n",
       "      <td>1,000 Places to See Before You Die</td>\n",
       "      <td>201</td>\n",
       "    </tr>\n",
       "  </tbody>\n",
       "</table>\n",
       "<p>1000 rows × 3 columns</p>\n",
       "</div>"
      ],
      "text/plain": [
       "     Row                                              Title  Inventory\n",
       "0      0                               A Light in the Attic         28\n",
       "1      1                                 Tipping the Velvet        257\n",
       "2      2                                         Soumission        243\n",
       "3      3                                      Sharp Objects        251\n",
       "4      4              Sapiens: A Brief History of Humankind         48\n",
       "..   ...                                                ...        ...\n",
       "995  995  Alice in Wonderland (Alice's Adventures in Won...        219\n",
       "996  996   Ajin: Demi-Human, Volume 1 (Ajin: Demi-Human #1)        184\n",
       "997  997  A Spy's Devotion (The Regency Spies of London #1)        285\n",
       "998  998                1st to Die (Women's Murder Club #1)        267\n",
       "999  999                 1,000 Places to See Before You Die        201\n",
       "\n",
       "[1000 rows x 3 columns]"
      ]
     },
     "execution_count": 45,
     "metadata": {},
     "output_type": "execute_result"
    }
   ],
   "source": [
    "title_info"
   ]
  },
  {
   "cell_type": "code",
   "execution_count": 74,
   "id": "268be508-2a3d-427e-909b-59acd82f9036",
   "metadata": {},
   "outputs": [],
   "source": [
    "datess = []\n",
    "for i in range(0,1000):\n",
    "    m = random.randint(1,12)\n",
    "    d = random.randint(1,28)\n",
    "    y = random.randint(2000,2025)\n",
    "    datess.append(f\"{m}/{d}/{y}\")\n",
    "\n"
   ]
  },
  {
   "cell_type": "code",
   "execution_count": 75,
   "id": "7d727595-ac0b-4ebd-80e9-ab18f3efa3e8",
   "metadata": {},
   "outputs": [],
   "source": [
    "title_info['date'] = datess"
   ]
  },
  {
   "cell_type": "code",
   "execution_count": 77,
   "id": "2948a751-538b-41c9-b2c2-b3a58a0d7f29",
   "metadata": {},
   "outputs": [
    {
     "data": {
      "text/plain": [
       "['6/22/2024', '1/21/2014', '1/9/2002', '12/18/2007', '5/8/2021']"
      ]
     },
     "execution_count": 77,
     "metadata": {},
     "output_type": "execute_result"
    }
   ],
   "source": [
    "datess[0:5]"
   ]
  },
  {
   "cell_type": "code",
   "execution_count": null,
   "id": "90d82e5a-f817-4407-bc83-6f35bb6a53f2",
   "metadata": {},
   "outputs": [],
   "source": []
  }
 ],
 "metadata": {
  "kernelspec": {
   "display_name": "Python [conda env:base] *",
   "language": "python",
   "name": "conda-base-py"
  },
  "language_info": {
   "codemirror_mode": {
    "name": "ipython",
    "version": 3
   },
   "file_extension": ".py",
   "mimetype": "text/x-python",
   "name": "python",
   "nbconvert_exporter": "python",
   "pygments_lexer": "ipython3",
   "version": "3.13.5"
  }
 },
 "nbformat": 4,
 "nbformat_minor": 5
}
