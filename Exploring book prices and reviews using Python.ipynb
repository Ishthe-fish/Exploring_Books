{
 "cells": [
  {
   "cell_type": "markdown",
   "id": "159e5b70-01a6-4ce0-97b8-82f021621703",
   "metadata": {},
   "source": [
    "# Exploring Book Prices and Reviews Using Python\n",
    "\n",
    "## Introduction\n",
    "In this project, I act as a **data analyst** for a hypothetical online bookstore.  \n",
    "Leadership posed three key business questions:  \n",
    "1. Does price correlate with book rating?  \n",
    "2. What is the distribution of ratings and prices?  \n",
    "3. What is the average rating per price bucket?  \n",
    "\n",
    "To answer these, I scraped and cleaned **1,000 book records**, prepared the dataset, and performed analyses using **Python (pandas & matplotlib)**.  \n",
    "\n",
    "This project demonstrates a complete **end-to-end workflow**:  \n",
    "- **ETL** → web scraping, data cleaning, and preparation  \n",
    "- **Analysis & Visualizations** → answering leadership’s questions  \n",
    "- **Insights & Recommendations** → framing results for business decision-making  "
   ]
  },
  {
   "cell_type": "markdown",
   "id": "93a44f7f-3bf4-492e-9648-75f30509233d",
   "metadata": {},
   "source": [
    "## Data Preparation/ Cleaning"
   ]
  },
  {
   "cell_type": "code",
   "execution_count": 1,
   "id": "fcc3e017-ff18-437a-a720-2d41d91aff51",
   "metadata": {},
   "outputs": [],
   "source": [
    "import requests\n",
    "from bs4 import BeautifulSoup\n",
    "import pandas as pd\n",
    "import random\n",
    "import matplotlib"
   ]
  },
  {
   "cell_type": "code",
   "execution_count": 2,
   "id": "c0adf49b-7275-4e0d-8f9c-742ca0438cf3",
   "metadata": {},
   "outputs": [
    {
     "name": "stdout",
     "output_type": "stream",
     "text": [
      "Done\n"
     ]
    }
   ],
   "source": [
    "#This is the target URL\n",
    "url = 'http://books.toscrape.com/'\n",
    "base_url = \"http://books.toscrape.com/catalogue/page-{}.html\"\n",
    "#Create a list to hold book data\n",
    "books = []\n",
    "\n",
    "\n",
    "for page in range(1,51):#here we will cycle through all the pages\n",
    "    if page == 1:\n",
    "        url\n",
    "    else:\n",
    "        url = base_url.format(page)\n",
    "    \n",
    "    #Here we are fetching the HTML\n",
    "    response = requests.get(url) #This will go get the html page and return a '<Response [200]> ' if successful\n",
    "    soup = BeautifulSoup(response.text, 'html.parser') # Turns raw HTML into a Soup object, which behaves like a tree of HTML tags\n",
    "\n",
    "    # Find all book containers on the page\n",
    "    for book in soup.find_all(\"article\", class_=\"product_pod\"):                  #This is used to find all the book containers\n",
    "        title = book.h3.a[\"title\"]                                               #drilling down into the  <h3><a> tags to find the title\n",
    "        price = book.find(\"p\", class_=\"price_color\").text.strip()                # Here we find the price for the book and then get the text, strip it, and remove unwanted characters\n",
    "        price = price.replace(\"£\", \"\").replace(\",\", \"\").replace('Â','')\n",
    "        availability = book.find(\"p\", class_=\"instock availability\").text.strip() \n",
    "        rating = book.p[\"class\"][1]                                              #This pulls the rating in a list ['star-rating', 'Three'] then we ask for index 1\n",
    "    \n",
    "        books.append({\n",
    "            \"Title\": title,\n",
    "            \"Price (GBP)\": float(price),\n",
    "            \"Availability\": availability,\n",
    "            \"Rating\": rating\n",
    "        })\n",
    "        \n",
    "print('Done')\n"
   ]
  },
  {
   "cell_type": "code",
   "execution_count": 7,
   "id": "8b002bfe-e7c9-4788-b5b1-b937f2e80f8a",
   "metadata": {},
   "outputs": [
    {
     "data": {
      "text/html": [
       "<div>\n",
       "<style scoped>\n",
       "    .dataframe tbody tr th:only-of-type {\n",
       "        vertical-align: middle;\n",
       "    }\n",
       "\n",
       "    .dataframe tbody tr th {\n",
       "        vertical-align: top;\n",
       "    }\n",
       "\n",
       "    .dataframe thead th {\n",
       "        text-align: right;\n",
       "    }\n",
       "</style>\n",
       "<table border=\"1\" class=\"dataframe\">\n",
       "  <thead>\n",
       "    <tr style=\"text-align: right;\">\n",
       "      <th></th>\n",
       "      <th>Title</th>\n",
       "      <th>Price (GBP)</th>\n",
       "      <th>Availability</th>\n",
       "      <th>Rating</th>\n",
       "      <th>Row</th>\n",
       "    </tr>\n",
       "  </thead>\n",
       "  <tbody>\n",
       "    <tr>\n",
       "      <th>0</th>\n",
       "      <td>A Light in the Attic</td>\n",
       "      <td>51.77</td>\n",
       "      <td>In stock</td>\n",
       "      <td>Three</td>\n",
       "      <td>0</td>\n",
       "    </tr>\n",
       "    <tr>\n",
       "      <th>1</th>\n",
       "      <td>Tipping the Velvet</td>\n",
       "      <td>53.74</td>\n",
       "      <td>In stock</td>\n",
       "      <td>One</td>\n",
       "      <td>1</td>\n",
       "    </tr>\n",
       "    <tr>\n",
       "      <th>2</th>\n",
       "      <td>Soumission</td>\n",
       "      <td>50.10</td>\n",
       "      <td>In stock</td>\n",
       "      <td>One</td>\n",
       "      <td>2</td>\n",
       "    </tr>\n",
       "    <tr>\n",
       "      <th>3</th>\n",
       "      <td>Sharp Objects</td>\n",
       "      <td>47.82</td>\n",
       "      <td>In stock</td>\n",
       "      <td>Four</td>\n",
       "      <td>3</td>\n",
       "    </tr>\n",
       "    <tr>\n",
       "      <th>4</th>\n",
       "      <td>Sapiens: A Brief History of Humankind</td>\n",
       "      <td>54.23</td>\n",
       "      <td>In stock</td>\n",
       "      <td>Five</td>\n",
       "      <td>4</td>\n",
       "    </tr>\n",
       "    <tr>\n",
       "      <th>...</th>\n",
       "      <td>...</td>\n",
       "      <td>...</td>\n",
       "      <td>...</td>\n",
       "      <td>...</td>\n",
       "      <td>...</td>\n",
       "    </tr>\n",
       "    <tr>\n",
       "      <th>995</th>\n",
       "      <td>Alice in Wonderland (Alice's Adventures in Won...</td>\n",
       "      <td>55.53</td>\n",
       "      <td>In stock</td>\n",
       "      <td>One</td>\n",
       "      <td>995</td>\n",
       "    </tr>\n",
       "    <tr>\n",
       "      <th>996</th>\n",
       "      <td>Ajin: Demi-Human, Volume 1 (Ajin: Demi-Human #1)</td>\n",
       "      <td>57.06</td>\n",
       "      <td>In stock</td>\n",
       "      <td>Four</td>\n",
       "      <td>996</td>\n",
       "    </tr>\n",
       "    <tr>\n",
       "      <th>997</th>\n",
       "      <td>A Spy's Devotion (The Regency Spies of London #1)</td>\n",
       "      <td>16.97</td>\n",
       "      <td>In stock</td>\n",
       "      <td>Five</td>\n",
       "      <td>997</td>\n",
       "    </tr>\n",
       "    <tr>\n",
       "      <th>998</th>\n",
       "      <td>1st to Die (Women's Murder Club #1)</td>\n",
       "      <td>53.98</td>\n",
       "      <td>In stock</td>\n",
       "      <td>One</td>\n",
       "      <td>998</td>\n",
       "    </tr>\n",
       "    <tr>\n",
       "      <th>999</th>\n",
       "      <td>1,000 Places to See Before You Die</td>\n",
       "      <td>26.08</td>\n",
       "      <td>In stock</td>\n",
       "      <td>Five</td>\n",
       "      <td>999</td>\n",
       "    </tr>\n",
       "  </tbody>\n",
       "</table>\n",
       "<p>1000 rows × 5 columns</p>\n",
       "</div>"
      ],
      "text/plain": [
       "                                                 Title  Price (GBP)  \\\n",
       "0                                 A Light in the Attic        51.77   \n",
       "1                                   Tipping the Velvet        53.74   \n",
       "2                                           Soumission        50.10   \n",
       "3                                        Sharp Objects        47.82   \n",
       "4                Sapiens: A Brief History of Humankind        54.23   \n",
       "..                                                 ...          ...   \n",
       "995  Alice in Wonderland (Alice's Adventures in Won...        55.53   \n",
       "996   Ajin: Demi-Human, Volume 1 (Ajin: Demi-Human #1)        57.06   \n",
       "997  A Spy's Devotion (The Regency Spies of London #1)        16.97   \n",
       "998                1st to Die (Women's Murder Club #1)        53.98   \n",
       "999                 1,000 Places to See Before You Die        26.08   \n",
       "\n",
       "    Availability Rating  Row  \n",
       "0       In stock  Three    0  \n",
       "1       In stock    One    1  \n",
       "2       In stock    One    2  \n",
       "3       In stock   Four    3  \n",
       "4       In stock   Five    4  \n",
       "..           ...    ...  ...  \n",
       "995     In stock    One  995  \n",
       "996     In stock   Four  996  \n",
       "997     In stock   Five  997  \n",
       "998     In stock    One  998  \n",
       "999     In stock   Five  999  \n",
       "\n",
       "[1000 rows x 5 columns]"
      ]
     },
     "execution_count": 7,
     "metadata": {},
     "output_type": "execute_result"
    }
   ],
   "source": [
    "df = pd.DataFrame(books)\n",
    "\n",
    "# Add a new column for the row index which we will use when we split this up into 2 df\n",
    "df['Row'] = df.index\n",
    "df"
   ]
  },
  {
   "cell_type": "code",
   "execution_count": 8,
   "id": "28a4c3a2-0195-4a27-a7c6-b47f939d6acf",
   "metadata": {},
   "outputs": [
    {
     "data": {
      "text/html": [
       "<div>\n",
       "<style scoped>\n",
       "    .dataframe tbody tr th:only-of-type {\n",
       "        vertical-align: middle;\n",
       "    }\n",
       "\n",
       "    .dataframe tbody tr th {\n",
       "        vertical-align: top;\n",
       "    }\n",
       "\n",
       "    .dataframe thead th {\n",
       "        text-align: right;\n",
       "    }\n",
       "</style>\n",
       "<table border=\"1\" class=\"dataframe\">\n",
       "  <thead>\n",
       "    <tr style=\"text-align: right;\">\n",
       "      <th></th>\n",
       "      <th>Title</th>\n",
       "      <th>Price (GBP)</th>\n",
       "      <th>Availability</th>\n",
       "      <th>Rating</th>\n",
       "      <th>Row</th>\n",
       "    </tr>\n",
       "  </thead>\n",
       "  <tbody>\n",
       "  </tbody>\n",
       "</table>\n",
       "</div>"
      ],
      "text/plain": [
       "Empty DataFrame\n",
       "Columns: [Title, Price (GBP), Availability, Rating, Row]\n",
       "Index: []"
      ]
     },
     "execution_count": 8,
     "metadata": {},
     "output_type": "execute_result"
    }
   ],
   "source": [
    "# converting the Rating column to number\n",
    "def convert_to_num(i):\n",
    "    if i == 'One':\n",
    "        return 1\n",
    "    elif i == 'Two':\n",
    "        return 2\n",
    "    elif i == 'Three':\n",
    "        return 3\n",
    "    elif i == 'Four':\n",
    "        return 4\n",
    "    elif i == 'Five':\n",
    "        return 5\n",
    "    else:\n",
    "        return 999\n",
    "\n",
    "df['Rating'] = df['Rating'].apply(convert_to_num)\n",
    "\n",
    "df[df['Rating']==999] #This is to ensure we do not have any missing data here or data that was not One -> Five"
   ]
  },
  {
   "cell_type": "code",
   "execution_count": 9,
   "id": "15774b10-8a96-49e5-93e2-caa69aeae398",
   "metadata": {},
   "outputs": [],
   "source": [
    "#Here we will generate a random number for each one to simulate inventory counts\n",
    "def generate_inventory(i):\n",
    "    return random.randint(1, 300)\n",
    "\n",
    "inventory = df['Title'].apply(generate_inventory)\n",
    "df['Inventory'] = inventory"
   ]
  },
  {
   "cell_type": "code",
   "execution_count": 10,
   "id": "63a3b6eb-97ef-473d-91e3-b013827153a0",
   "metadata": {},
   "outputs": [],
   "source": [
    "# This will create a simulated last sold field \n",
    "dates_ = []\n",
    "for i in range(0,1000):\n",
    "    m = random.randint(1,12)\n",
    "    d = random.randint(1,28)\n",
    "    y = random.randint(2000,2025)\n",
    "    dates_.append(f\"{m}/{d}/{y}\")\n",
    "\n",
    "df['Last_date_sold'] = dates_"
   ]
  },
  {
   "cell_type": "code",
   "execution_count": 11,
   "id": "b304e447-103d-42b4-9f9a-fc58b0421d56",
   "metadata": {},
   "outputs": [
    {
     "name": "stdout",
     "output_type": "stream",
     "text": [
      "<class 'pandas.core.frame.DataFrame'>\n",
      "RangeIndex: 1000 entries, 0 to 999\n",
      "Data columns (total 7 columns):\n",
      " #   Column          Non-Null Count  Dtype  \n",
      "---  ------          --------------  -----  \n",
      " 0   Title           1000 non-null   object \n",
      " 1   Price (GBP)     1000 non-null   float64\n",
      " 2   Availability    1000 non-null   object \n",
      " 3   Rating          1000 non-null   int64  \n",
      " 4   Row             1000 non-null   int64  \n",
      " 5   Inventory       1000 non-null   int64  \n",
      " 6   Last_date_sold  1000 non-null   object \n",
      "dtypes: float64(1), int64(3), object(3)\n",
      "memory usage: 54.8+ KB\n"
     ]
    }
   ],
   "source": [
    "df.info()"
   ]
  },
  {
   "cell_type": "code",
   "execution_count": 12,
   "id": "db8ff71d-7d51-41c3-8e89-ccfa836ae067",
   "metadata": {},
   "outputs": [
    {
     "data": {
      "text/plain": [
       "Title              999\n",
       "Price (GBP)        903\n",
       "Availability         1\n",
       "Rating               5\n",
       "Row               1000\n",
       "Inventory          286\n",
       "Last_date_sold     953\n",
       "dtype: int64"
      ]
     },
     "execution_count": 12,
     "metadata": {},
     "output_type": "execute_result"
    }
   ],
   "source": [
    "# Here I will try to optimize the dataframe by changing the datatypes\n",
    "# We will change the datatypes from object to category which will drop the memory usage.\n",
    "df.nunique()"
   ]
  },
  {
   "cell_type": "code",
   "execution_count": 13,
   "id": "07c68a00-1217-4011-be10-6c2972fb974e",
   "metadata": {},
   "outputs": [
    {
     "name": "stdout",
     "output_type": "stream",
     "text": [
      "<class 'pandas.core.frame.DataFrame'>\n",
      "RangeIndex: 1000 entries, 0 to 999\n",
      "Data columns (total 6 columns):\n",
      " #   Column          Non-Null Count  Dtype   \n",
      "---  ------          --------------  -----   \n",
      " 0   Title           1000 non-null   object  \n",
      " 1   Price (GBP)     1000 non-null   float64 \n",
      " 2   Rating          1000 non-null   category\n",
      " 3   Row             1000 non-null   int64   \n",
      " 4   Inventory       1000 non-null   int64   \n",
      " 5   Last_date_sold  1000 non-null   object  \n",
      "dtypes: category(1), float64(1), int64(2), object(2)\n",
      "memory usage: 40.4+ KB\n"
     ]
    }
   ],
   "source": [
    "# Here we will drop the 'availability' column too since all these books are instock so we dont need this info.\n",
    "df.drop('Availability', axis=1, inplace =True) \n",
    "df['Rating'] = df['Rating'].astype('category')\n",
    "df.info()"
   ]
  },
  {
   "cell_type": "code",
   "execution_count": 14,
   "id": "3199ff3b-c2ff-40af-ae5e-0bd856206723",
   "metadata": {},
   "outputs": [
    {
     "name": "stdout",
     "output_type": "stream",
     "text": [
      "Memory was improved by 26.0%\n"
     ]
    }
   ],
   "source": [
    "change = round(1-(40.4/54.8),2)*100\n",
    "print('Memory was improved by '+ str(change)+'%')"
   ]
  },
  {
   "cell_type": "code",
   "execution_count": 15,
   "id": "d3c058bb-6e71-47c1-aad8-d4232462ea95",
   "metadata": {},
   "outputs": [],
   "source": [
    "#Reorganizing the df\n",
    "df = df[['Row','Title','Price (GBP)', 'Inventory', 'Rating','Last_date_sold']]"
   ]
  },
  {
   "cell_type": "code",
   "execution_count": 16,
   "id": "ec84cc66-5f72-4a8c-8788-018f1dc6c057",
   "metadata": {},
   "outputs": [
    {
     "data": {
      "text/html": [
       "<div>\n",
       "<style scoped>\n",
       "    .dataframe tbody tr th:only-of-type {\n",
       "        vertical-align: middle;\n",
       "    }\n",
       "\n",
       "    .dataframe tbody tr th {\n",
       "        vertical-align: top;\n",
       "    }\n",
       "\n",
       "    .dataframe thead th {\n",
       "        text-align: right;\n",
       "    }\n",
       "</style>\n",
       "<table border=\"1\" class=\"dataframe\">\n",
       "  <thead>\n",
       "    <tr style=\"text-align: right;\">\n",
       "      <th></th>\n",
       "      <th>Row</th>\n",
       "      <th>Title</th>\n",
       "      <th>Price (GBP)</th>\n",
       "      <th>Inventory</th>\n",
       "      <th>Rating</th>\n",
       "      <th>Last_date_sold</th>\n",
       "    </tr>\n",
       "  </thead>\n",
       "  <tbody>\n",
       "    <tr>\n",
       "      <th>0</th>\n",
       "      <td>0</td>\n",
       "      <td>A Light in the Attic</td>\n",
       "      <td>51.77</td>\n",
       "      <td>108</td>\n",
       "      <td>3</td>\n",
       "      <td>6/17/2023</td>\n",
       "    </tr>\n",
       "    <tr>\n",
       "      <th>1</th>\n",
       "      <td>1</td>\n",
       "      <td>Tipping the Velvet</td>\n",
       "      <td>53.74</td>\n",
       "      <td>201</td>\n",
       "      <td>1</td>\n",
       "      <td>9/10/2016</td>\n",
       "    </tr>\n",
       "    <tr>\n",
       "      <th>2</th>\n",
       "      <td>2</td>\n",
       "      <td>Soumission</td>\n",
       "      <td>50.10</td>\n",
       "      <td>279</td>\n",
       "      <td>1</td>\n",
       "      <td>11/1/2021</td>\n",
       "    </tr>\n",
       "    <tr>\n",
       "      <th>3</th>\n",
       "      <td>3</td>\n",
       "      <td>Sharp Objects</td>\n",
       "      <td>47.82</td>\n",
       "      <td>270</td>\n",
       "      <td>4</td>\n",
       "      <td>8/14/2015</td>\n",
       "    </tr>\n",
       "    <tr>\n",
       "      <th>4</th>\n",
       "      <td>4</td>\n",
       "      <td>Sapiens: A Brief History of Humankind</td>\n",
       "      <td>54.23</td>\n",
       "      <td>97</td>\n",
       "      <td>5</td>\n",
       "      <td>5/9/2002</td>\n",
       "    </tr>\n",
       "  </tbody>\n",
       "</table>\n",
       "</div>"
      ],
      "text/plain": [
       "   Row                                  Title  Price (GBP)  Inventory Rating  \\\n",
       "0    0                   A Light in the Attic        51.77        108      3   \n",
       "1    1                     Tipping the Velvet        53.74        201      1   \n",
       "2    2                             Soumission        50.10        279      1   \n",
       "3    3                          Sharp Objects        47.82        270      4   \n",
       "4    4  Sapiens: A Brief History of Humankind        54.23         97      5   \n",
       "\n",
       "  Last_date_sold  \n",
       "0      6/17/2023  \n",
       "1      9/10/2016  \n",
       "2      11/1/2021  \n",
       "3      8/14/2015  \n",
       "4       5/9/2002  "
      ]
     },
     "execution_count": 16,
     "metadata": {},
     "output_type": "execute_result"
    }
   ],
   "source": [
    "df.head(5)"
   ]
  },
  {
   "cell_type": "code",
   "execution_count": 17,
   "id": "a06ec8c1-c68f-4020-ba94-7a2862ea6449",
   "metadata": {},
   "outputs": [
    {
     "name": "stdout",
     "output_type": "stream",
     "text": [
      "<class 'pandas.core.frame.DataFrame'>\n",
      "RangeIndex: 1000 entries, 0 to 999\n",
      "Data columns (total 6 columns):\n",
      " #   Column          Non-Null Count  Dtype   \n",
      "---  ------          --------------  -----   \n",
      " 0   Row             1000 non-null   int64   \n",
      " 1   Title           1000 non-null   object  \n",
      " 2   Price (GBP)     1000 non-null   float64 \n",
      " 3   Inventory       1000 non-null   int64   \n",
      " 4   Rating          1000 non-null   category\n",
      " 5   Last_date_sold  1000 non-null   object  \n",
      "dtypes: category(1), float64(1), int64(2), object(2)\n",
      "memory usage: 40.4+ KB\n"
     ]
    }
   ],
   "source": [
    "# Here we are checking for missing values\n",
    "df.info()\n",
    "#Since we have no null values we can move on"
   ]
  },
  {
   "cell_type": "code",
   "execution_count": 18,
   "id": "0a372d81-5fbf-4cc9-8f18-4f0127083e37",
   "metadata": {},
   "outputs": [
    {
     "name": "stdout",
     "output_type": "stream",
     "text": [
      "<class 'pandas.core.frame.DataFrame'>\n",
      "RangeIndex: 1000 entries, 0 to 999\n",
      "Data columns (total 6 columns):\n",
      " #   Column          Non-Null Count  Dtype   \n",
      "---  ------          --------------  -----   \n",
      " 0   Row             1000 non-null   int64   \n",
      " 1   Title           1000 non-null   object  \n",
      " 2   Price (GBP)     1000 non-null   float64 \n",
      " 3   Inventory       1000 non-null   int64   \n",
      " 4   Rating          1000 non-null   category\n",
      " 5   Last_date_sold  1000 non-null   object  \n",
      "dtypes: category(1), float64(1), int64(2), object(2)\n",
      "memory usage: 40.4+ KB\n"
     ]
    }
   ],
   "source": [
    "# Here we are trying to remove duplicates but none are found\n",
    "df = df[~df.duplicated(keep=False)]\n",
    "df.info()"
   ]
  },
  {
   "cell_type": "code",
   "execution_count": 19,
   "id": "eef5e590-7099-4083-afc5-cb3051d30983",
   "metadata": {},
   "outputs": [],
   "source": [
    "#Here we will split the df into 2 to simulate separate tables and simulate joins\n",
    "\n",
    "rating = df[['Row','Title','Rating']].copy()\n",
    "inventory = df[['Row','Price (GBP)', 'Inventory','Last_date_sold']].copy()\n",
    "\n",
    "\n",
    "# rating.to_csv('rating',index=False)\n",
    "# inventory.to_csv('inventory',index=False)\n",
    "\n",
    "\n",
    "# The two lines above are commented out since these csv's were already generated and everytime we run the notebook\n",
    "# we replace the random values. \n",
    "# To continue please use the csv's I provided."
   ]
  },
  {
   "cell_type": "code",
   "execution_count": 20,
   "id": "48a488a6-8fb7-4fe8-992c-568748a90d46",
   "metadata": {},
   "outputs": [
    {
     "data": {
      "text/plain": [
       "Row       1000\n",
       "Title      999\n",
       "Rating       5\n",
       "dtype: int64"
      ]
     },
     "execution_count": 20,
     "metadata": {},
     "output_type": "execute_result"
    }
   ],
   "source": [
    "#Importing the CSV's we will work with and checking for duplicates in these csv's\n",
    "inventory = pd.read_csv('inventory', parse_dates=['Last_date_sold']).sort_index()\n",
    "rating = pd.read_csv('rating')\n",
    "\n",
    "rating.nunique()"
   ]
  },
  {
   "cell_type": "code",
   "execution_count": 21,
   "id": "6dd27cbf-269e-422e-972f-fc024041d21f",
   "metadata": {},
   "outputs": [
    {
     "data": {
      "text/plain": [
       "Row               1000\n",
       "Price (GBP)        903\n",
       "Inventory          294\n",
       "Last_date_sold     937\n",
       "dtype: int64"
      ]
     },
     "execution_count": 21,
     "metadata": {},
     "output_type": "execute_result"
    }
   ],
   "source": [
    "inventory.nunique()"
   ]
  },
  {
   "cell_type": "code",
   "execution_count": 22,
   "id": "33a800e5-9fd6-4a79-aff5-0f786f6dcfdf",
   "metadata": {},
   "outputs": [
    {
     "data": {
      "text/html": [
       "<div>\n",
       "<style scoped>\n",
       "    .dataframe tbody tr th:only-of-type {\n",
       "        vertical-align: middle;\n",
       "    }\n",
       "\n",
       "    .dataframe tbody tr th {\n",
       "        vertical-align: top;\n",
       "    }\n",
       "\n",
       "    .dataframe thead th {\n",
       "        text-align: right;\n",
       "    }\n",
       "</style>\n",
       "<table border=\"1\" class=\"dataframe\">\n",
       "  <thead>\n",
       "    <tr style=\"text-align: right;\">\n",
       "      <th></th>\n",
       "      <th>Row</th>\n",
       "      <th>Title</th>\n",
       "      <th>Rating</th>\n",
       "    </tr>\n",
       "  </thead>\n",
       "  <tbody>\n",
       "    <tr>\n",
       "      <th>236</th>\n",
       "      <td>236</td>\n",
       "      <td>The Star-Touched Queen</td>\n",
       "      <td>5</td>\n",
       "    </tr>\n",
       "    <tr>\n",
       "      <th>358</th>\n",
       "      <td>358</td>\n",
       "      <td>The Star-Touched Queen</td>\n",
       "      <td>5</td>\n",
       "    </tr>\n",
       "  </tbody>\n",
       "</table>\n",
       "</div>"
      ],
      "text/plain": [
       "     Row                   Title  Rating\n",
       "236  236  The Star-Touched Queen       5\n",
       "358  358  The Star-Touched Queen       5"
      ]
     },
     "execution_count": 22,
     "metadata": {},
     "output_type": "execute_result"
    }
   ],
   "source": [
    "# We noticed that rating has one duplicate \n",
    "# Here we investigate and see that this is in fact a duplicate title\n",
    "\n",
    "rating[rating['Title'].duplicated(keep=False)]"
   ]
  },
  {
   "cell_type": "code",
   "execution_count": 24,
   "id": "f4030960-f2a6-487d-aa95-bf05da1619e5",
   "metadata": {},
   "outputs": [
    {
     "data": {
      "text/html": [
       "<div>\n",
       "<style scoped>\n",
       "    .dataframe tbody tr th:only-of-type {\n",
       "        vertical-align: middle;\n",
       "    }\n",
       "\n",
       "    .dataframe tbody tr th {\n",
       "        vertical-align: top;\n",
       "    }\n",
       "\n",
       "    .dataframe thead th {\n",
       "        text-align: right;\n",
       "    }\n",
       "</style>\n",
       "<table border=\"1\" class=\"dataframe\">\n",
       "  <thead>\n",
       "    <tr style=\"text-align: right;\">\n",
       "      <th></th>\n",
       "      <th>Row</th>\n",
       "      <th>Price (GBP)</th>\n",
       "      <th>Inventory</th>\n",
       "      <th>Last_date_sold</th>\n",
       "    </tr>\n",
       "  </thead>\n",
       "  <tbody>\n",
       "    <tr>\n",
       "      <th>236</th>\n",
       "      <td>236</td>\n",
       "      <td>46.02</td>\n",
       "      <td>26</td>\n",
       "      <td>2004-03-17</td>\n",
       "    </tr>\n",
       "    <tr>\n",
       "      <th>358</th>\n",
       "      <td>358</td>\n",
       "      <td>32.30</td>\n",
       "      <td>77</td>\n",
       "      <td>2014-05-11</td>\n",
       "    </tr>\n",
       "  </tbody>\n",
       "</table>\n",
       "</div>"
      ],
      "text/plain": [
       "     Row  Price (GBP)  Inventory Last_date_sold\n",
       "236  236        46.02         26     2004-03-17\n",
       "358  358        32.30         77     2014-05-11"
      ]
     },
     "execution_count": 24,
     "metadata": {},
     "output_type": "execute_result"
    }
   ],
   "source": [
    "# Here we search up the same row number and see that they have different Price information\n",
    "# Also inventory and last date sold but this is simulated data. \n",
    "# We will remove the the first record that occurs.\n",
    "\n",
    "inventory[(inventory['Row'] ==236) | (inventory['Row'] == 358)]"
   ]
  },
  {
   "cell_type": "code",
   "execution_count": 25,
   "id": "2242ad8e-3b00-4e53-9e75-8fdb4f03c766",
   "metadata": {},
   "outputs": [],
   "source": [
    "# Here we have removed record 236 from both dataframes\n",
    "\n",
    "inventory = inventory[inventory['Row'] != 236]\n",
    "rating = rating[rating['Row'] != 236]"
   ]
  },
  {
   "cell_type": "code",
   "execution_count": 26,
   "id": "ea4dd2b9-2592-4aca-bf63-539dc9854217",
   "metadata": {},
   "outputs": [
    {
     "data": {
      "text/html": [
       "<div>\n",
       "<style scoped>\n",
       "    .dataframe tbody tr th:only-of-type {\n",
       "        vertical-align: middle;\n",
       "    }\n",
       "\n",
       "    .dataframe tbody tr th {\n",
       "        vertical-align: top;\n",
       "    }\n",
       "\n",
       "    .dataframe thead th {\n",
       "        text-align: right;\n",
       "    }\n",
       "</style>\n",
       "<table border=\"1\" class=\"dataframe\">\n",
       "  <thead>\n",
       "    <tr style=\"text-align: right;\">\n",
       "      <th></th>\n",
       "      <th>Row</th>\n",
       "      <th>Title</th>\n",
       "      <th>Rating</th>\n",
       "    </tr>\n",
       "  </thead>\n",
       "  <tbody>\n",
       "  </tbody>\n",
       "</table>\n",
       "</div>"
      ],
      "text/plain": [
       "Empty DataFrame\n",
       "Columns: [Row, Title, Rating]\n",
       "Index: []"
      ]
     },
     "execution_count": 26,
     "metadata": {},
     "output_type": "execute_result"
    }
   ],
   "source": [
    "# Verification to see if there is actually no more duplicates\n",
    "\n",
    "rating[rating['Title'].duplicated(keep=False)]"
   ]
  },
  {
   "cell_type": "code",
   "execution_count": 27,
   "id": "9e9a9e3a-ec08-4e30-82f1-59a40b142d5e",
   "metadata": {},
   "outputs": [
    {
     "data": {
      "text/html": [
       "<div>\n",
       "<style scoped>\n",
       "    .dataframe tbody tr th:only-of-type {\n",
       "        vertical-align: middle;\n",
       "    }\n",
       "\n",
       "    .dataframe tbody tr th {\n",
       "        vertical-align: top;\n",
       "    }\n",
       "\n",
       "    .dataframe thead th {\n",
       "        text-align: right;\n",
       "    }\n",
       "</style>\n",
       "<table border=\"1\" class=\"dataframe\">\n",
       "  <thead>\n",
       "    <tr style=\"text-align: right;\">\n",
       "      <th></th>\n",
       "      <th>Row</th>\n",
       "      <th>Title</th>\n",
       "      <th>Rating</th>\n",
       "      <th>Price (GBP)</th>\n",
       "      <th>Inventory</th>\n",
       "      <th>Last_date_sold</th>\n",
       "    </tr>\n",
       "  </thead>\n",
       "  <tbody>\n",
       "    <tr>\n",
       "      <th>0</th>\n",
       "      <td>0</td>\n",
       "      <td>A Light in the Attic</td>\n",
       "      <td>3</td>\n",
       "      <td>51.77</td>\n",
       "      <td>129</td>\n",
       "      <td>2021-03-01</td>\n",
       "    </tr>\n",
       "    <tr>\n",
       "      <th>1</th>\n",
       "      <td>1</td>\n",
       "      <td>Tipping the Velvet</td>\n",
       "      <td>1</td>\n",
       "      <td>53.74</td>\n",
       "      <td>251</td>\n",
       "      <td>2004-12-02</td>\n",
       "    </tr>\n",
       "    <tr>\n",
       "      <th>2</th>\n",
       "      <td>2</td>\n",
       "      <td>Soumission</td>\n",
       "      <td>1</td>\n",
       "      <td>50.10</td>\n",
       "      <td>207</td>\n",
       "      <td>2008-11-22</td>\n",
       "    </tr>\n",
       "    <tr>\n",
       "      <th>3</th>\n",
       "      <td>3</td>\n",
       "      <td>Sharp Objects</td>\n",
       "      <td>4</td>\n",
       "      <td>47.82</td>\n",
       "      <td>214</td>\n",
       "      <td>2001-08-13</td>\n",
       "    </tr>\n",
       "    <tr>\n",
       "      <th>4</th>\n",
       "      <td>4</td>\n",
       "      <td>Sapiens: A Brief History of Humankind</td>\n",
       "      <td>5</td>\n",
       "      <td>54.23</td>\n",
       "      <td>66</td>\n",
       "      <td>2006-10-17</td>\n",
       "    </tr>\n",
       "  </tbody>\n",
       "</table>\n",
       "</div>"
      ],
      "text/plain": [
       "   Row                                  Title  Rating  Price (GBP)  Inventory  \\\n",
       "0    0                   A Light in the Attic       3        51.77        129   \n",
       "1    1                     Tipping the Velvet       1        53.74        251   \n",
       "2    2                             Soumission       1        50.10        207   \n",
       "3    3                          Sharp Objects       4        47.82        214   \n",
       "4    4  Sapiens: A Brief History of Humankind       5        54.23         66   \n",
       "\n",
       "  Last_date_sold  \n",
       "0     2021-03-01  \n",
       "1     2004-12-02  \n",
       "2     2008-11-22  \n",
       "3     2001-08-13  \n",
       "4     2006-10-17  "
      ]
     },
     "execution_count": 27,
     "metadata": {},
     "output_type": "execute_result"
    }
   ],
   "source": [
    "# Here we will join the two dataframes to have one main dataframe\n",
    "# We will do a left join since we are sure that rating will have all the records\n",
    "\n",
    "master_df = rating.merge(inventory,how='left',left_on='Row',right_on ='Row')\n",
    "master_df.head()"
   ]
  },
  {
   "cell_type": "markdown",
   "id": "618ad36b-90ec-48aa-8b05-6540d86cae15",
   "metadata": {},
   "source": [
    "## Analysis\n",
    "\n",
    "Leadership posed three key business questions:  \n",
    "1. Does price correlate with book rating?  \n",
    "2. What is the distribution of ratings and prices?  \n",
    "3. What is the average rating per price bucket?  "
   ]
  },
  {
   "cell_type": "markdown",
   "id": "26748345-5478-40ad-9346-0f32e6596493",
   "metadata": {},
   "source": [
    "#### Question 1: Does price correlate with book rating?"
   ]
  },
  {
   "cell_type": "code",
   "execution_count": 28,
   "id": "5cbbc177-8c48-4661-b01c-f24b7c952ea6",
   "metadata": {},
   "outputs": [
    {
     "data": {
      "text/plain": [
       "Rating\n",
       "1    34.56\n",
       "2    34.81\n",
       "3    34.69\n",
       "4    36.09\n",
       "5    35.32\n",
       "Name: Price (GBP), dtype: float64"
      ]
     },
     "execution_count": 28,
     "metadata": {},
     "output_type": "execute_result"
    }
   ],
   "source": [
    "master_df.groupby('Rating')['Price (GBP)'].mean().round(2)"
   ]
  },
  {
   "cell_type": "markdown",
   "id": "2e998374-a55d-410b-9415-37c290169cf0",
   "metadata": {},
   "source": [
    "- Above we see that the average price is similar for all ratings"
   ]
  },
  {
   "cell_type": "code",
   "execution_count": 29,
   "id": "8b02604b-9101-477d-9274-c120d22bc860",
   "metadata": {},
   "outputs": [
    {
     "name": "stdout",
     "output_type": "stream",
     "text": [
      "Correlation between Price and Rating: 0.027\n"
     ]
    }
   ],
   "source": [
    "corr_value = master_df['Price (GBP)'].corr(master_df['Rating'])\n",
    "print(\"Correlation between Price and Rating:\", corr_value.round(3))"
   ]
  },
  {
   "cell_type": "code",
   "execution_count": 30,
   "id": "af16e33c-f675-40eb-9c28-7dd209ece7ac",
   "metadata": {},
   "outputs": [
    {
     "data": {
      "text/plain": [
       "<Axes: xlabel='Rating', ylabel='Price (GBP)'>"
      ]
     },
     "execution_count": 30,
     "metadata": {},
     "output_type": "execute_result"
    },
    {
     "data": {
      "image/png": "[encoded data removed]",
      "text/plain": [
       "<Figure size 640x480 with 1 Axes>"
      ]
     },
     "metadata": {},
     "output_type": "display_data"
    }
   ],
   "source": [
    "master_df.plot.scatter(x=\"Rating\", y=\"Price (GBP)\")"
   ]
  },
  {
   "cell_type": "markdown",
   "id": "ad5b99b8-d194-4032-b1de-0445782ce30c",
   "metadata": {},
   "source": [
    "#### Findings: \n",
    "- Since the correlation result is close to 0, there is no correlation between Price and Rating\n",
    "- This is supported by the scatterplot and the average prices"
   ]
  },
  {
   "cell_type": "markdown",
   "id": "d983cbda-fdcd-4e9d-bc88-864f063dbf4f",
   "metadata": {},
   "source": [
    "#### Question 2: What is the distribution of ratings and prices?"
   ]
  },
  {
   "cell_type": "markdown",
   "id": "3766a0a7-0e99-4194-ad7d-aeb232752e2c",
   "metadata": {},
   "source": [
    "##### First we will look at ratings:"
   ]
  },
  {
   "cell_type": "code",
   "execution_count": 31,
   "id": "3f63f0c4-be0f-4043-ba04-ceb5fa1860b2",
   "metadata": {},
   "outputs": [
    {
     "data": {
      "text/plain": [
       "Rating\n",
       "1    226\n",
       "2    196\n",
       "3    203\n",
       "4    179\n",
       "5    195\n",
       "Name: count, dtype: int64"
      ]
     },
     "execution_count": 31,
     "metadata": {},
     "output_type": "execute_result"
    }
   ],
   "source": [
    "master_df['Rating'].value_counts().sort_index()"
   ]
  },
  {
   "cell_type": "markdown",
   "id": "285e5170-5fd8-41d8-9a24-7dd014937d66",
   "metadata": {},
   "source": [
    "- Above is used to see how many records fall under each rating"
   ]
  },
  {
   "cell_type": "code",
   "execution_count": 32,
   "id": "5e764f76-b805-48db-b4c8-77ca5b5ee4d7",
   "metadata": {},
   "outputs": [
    {
     "data": {
      "text/plain": [
       "<Axes: title={'center': 'Books per Rating'}, xlabel='Rating'>"
      ]
     },
     "execution_count": 32,
     "metadata": {},
     "output_type": "execute_result"
    },
    {
     "data": {
      "image/png": "[encoded data removed]",
      "text/plain": [
       "<Figure size 640x480 with 1 Axes>"
      ]
     },
     "metadata": {},
     "output_type": "display_data"
    }
   ],
   "source": [
    "rating_counts = master_df['Rating'].value_counts().sort_index()\n",
    "rating_counts.plot(kind=\"bar\", title=\"Books per Rating\")"
   ]
  },
  {
   "cell_type": "markdown",
   "id": "988673e9-59f0-43a5-b73f-4f03b02904b3",
   "metadata": {},
   "source": [
    "##### Now we will look at prices:"
   ]
  },
  {
   "cell_type": "code",
   "execution_count": 33,
   "id": "1c123933-2b41-41ee-9a6a-fc86ba6e2e52",
   "metadata": {},
   "outputs": [
    {
     "name": "stdout",
     "output_type": "stream",
     "text": [
      "Below we have the min, max, and mean values:\n",
      "Max: 59.99 Min: 10.0 Mean: 35.06\n"
     ]
    }
   ],
   "source": [
    "print('Below we have the min, max, and mean values:')\n",
    "print('Max:',master_df['Price (GBP)'].max(),'Min:',master_df['Price (GBP)'].min(),'Mean:',master_df['Price (GBP)'].mean().round(2))"
   ]
  },
  {
   "cell_type": "code",
   "execution_count": 34,
   "id": "db84911b-b8cf-4c78-9a39-904fa2bb44fd",
   "metadata": {},
   "outputs": [
    {
     "data": {
      "text/plain": [
       "<Axes: xlabel='Row', ylabel='Price (GBP)'>"
      ]
     },
     "execution_count": 34,
     "metadata": {},
     "output_type": "execute_result"
    },
    {
     "data": {
      "image/png": "[encoded data removed]",
      "text/plain": [
       "<Figure size 640x480 with 1 Axes>"
      ]
     },
     "metadata": {},
     "output_type": "display_data"
    }
   ],
   "source": [
    "master_df.plot.scatter(x=\"Row\", y=\"Price (GBP)\")"
   ]
  },
  {
   "cell_type": "markdown",
   "id": "8448ce2f-0629-4b9c-bc54-b5c599d3ff3f",
   "metadata": {},
   "source": [
    "- The price ranges from 10.00 (min) to 59.99 (max), with a mean of ~35.06\n",
    "- The scatter plot above shows each book's price across dataset rows\n",
    "- This lets us check if prices are spread evenly across the dataset (which they are)\n",
    "- However, scatter plots do not summarize the distribution well\n",
    "- To better understand the distribution, we'll group prices into 4 buckets"
   ]
  },
  {
   "cell_type": "code",
   "execution_count": 35,
   "id": "25e90beb-88e3-4f90-b483-9fb23e900965",
   "metadata": {},
   "outputs": [
    {
     "data": {
      "text/html": [
       "<div>\n",
       "<style scoped>\n",
       "    .dataframe tbody tr th:only-of-type {\n",
       "        vertical-align: middle;\n",
       "    }\n",
       "\n",
       "    .dataframe tbody tr th {\n",
       "        vertical-align: top;\n",
       "    }\n",
       "\n",
       "    .dataframe thead th {\n",
       "        text-align: right;\n",
       "    }\n",
       "</style>\n",
       "<table border=\"1\" class=\"dataframe\">\n",
       "  <thead>\n",
       "    <tr style=\"text-align: right;\">\n",
       "      <th></th>\n",
       "      <th>Row</th>\n",
       "      <th>Title</th>\n",
       "      <th>Rating</th>\n",
       "      <th>Price (GBP)</th>\n",
       "      <th>Inventory</th>\n",
       "      <th>Last_date_sold</th>\n",
       "      <th>price_bucket</th>\n",
       "    </tr>\n",
       "  </thead>\n",
       "  <tbody>\n",
       "  </tbody>\n",
       "</table>\n",
       "</div>"
      ],
      "text/plain": [
       "Empty DataFrame\n",
       "Columns: [Row, Title, Rating, Price (GBP), Inventory, Last_date_sold, price_bucket]\n",
       "Index: []"
      ]
     },
     "execution_count": 35,
     "metadata": {},
     "output_type": "execute_result"
    }
   ],
   "source": [
    "def price_bucket(i):\n",
    "    if i <= 15:\n",
    "        return '<= 15'\n",
    "    if i <= 30:\n",
    "        return '<=30'\n",
    "    if i <= 45:\n",
    "        return '<= 45'\n",
    "    if i <= 60:\n",
    "        return '<=60'\n",
    "    else:\n",
    "        return 'error'\n",
    "master_df['price_bucket'] = master_df['Price (GBP)'].apply(price_bucket)\n",
    "\n",
    "#checking if all are mapped correctly\n",
    "master_df[master_df['price_bucket']=='error']"
   ]
  },
  {
   "cell_type": "code",
   "execution_count": 36,
   "id": "6a5b96fd-7844-475d-8839-81b9c0660461",
   "metadata": {},
   "outputs": [
    {
     "data": {
      "text/plain": [
       "<Axes: title={'center': 'Books per Price Bucket'}, xlabel='price_bucket'>"
      ]
     },
     "execution_count": 36,
     "metadata": {},
     "output_type": "execute_result"
    },
    {
     "data": {
      "image/png": "[encoded data removed]",
      "text/plain": [
       "<Figure size 640x480 with 1 Axes>"
      ]
     },
     "metadata": {},
     "output_type": "display_data"
    }
   ],
   "source": [
    "# Count how many books fall into each price bucket\n",
    "counts = master_df[\"price_bucket\"].value_counts().sort_index()\n",
    "\n",
    "\n",
    "counts.plot(kind=\"bar\", title=\"Books per Price Bucket\")"
   ]
  },
  {
   "cell_type": "markdown",
   "id": "503093f3-9468-4dc5-8329-8915a183a81d",
   "metadata": {},
   "source": [
    "#### Findings: \n",
    "- Individuals are consistently rating our books across the full range of 1–5\n",
    "- We see that the number of books priced at ≤30, ≤45, and ≤60 GBP are fairly even\n",
    "    - However, there are noticeably fewer books (around 100) priced at ≤15 GBP\n",
    "- From Q1, we learned that ratings are not correlated with price, meaning lower-priced books do not necessarily receive worse reviews\n",
    "- Since reviews are well distributed across price ranges, this suggests there may be an untapped market for books under 15\n"
   ]
  },
  {
   "cell_type": "markdown",
   "id": "58151bb3-7120-4d0d-a8a9-14c13fe4d0f9",
   "metadata": {},
   "source": [
    "#### Question 3: What is the average rating per price bucket?"
   ]
  },
  {
   "cell_type": "code",
   "execution_count": 37,
   "id": "b601be09-2301-4df6-9d0a-300d4c798472",
   "metadata": {},
   "outputs": [
    {
     "name": "stdout",
     "output_type": "stream",
     "text": [
      "Avg rating per price bucket:\n"
     ]
    },
    {
     "data": {
      "text/plain": [
       "price_bucket\n",
       "<= 15    3.075\n",
       "<= 45    2.895\n",
       "<=30     2.795\n",
       "<=60     3.017\n",
       "Name: Rating, dtype: float64"
      ]
     },
     "execution_count": 37,
     "metadata": {},
     "output_type": "execute_result"
    }
   ],
   "source": [
    "print('Avg rating per price bucket:')\n",
    "master_df.groupby('price_bucket')['Rating'].mean().round(3)"
   ]
  },
  {
   "cell_type": "code",
   "execution_count": 38,
   "id": "7979857a-5c65-49de-abd7-ffb0a991d4bd",
   "metadata": {},
   "outputs": [
    {
     "name": "stdout",
     "output_type": "stream",
     "text": [
      "Count of ratings per price bucket:\n"
     ]
    },
    {
     "data": {
      "text/plain": [
       "price_bucket\n",
       "<= 15    106\n",
       "<= 45    296\n",
       "<=30     297\n",
       "<=60     300\n",
       "Name: Rating, dtype: int64"
      ]
     },
     "execution_count": 38,
     "metadata": {},
     "output_type": "execute_result"
    }
   ],
   "source": [
    "print('Count of ratings per price bucket:')\n",
    "master_df.groupby('price_bucket')['Rating'].count().round(3)"
   ]
  },
  {
   "cell_type": "markdown",
   "id": "096bb969-de5d-4eb6-a0f7-482dd9914e47",
   "metadata": {},
   "source": [
    "#### Findings: \n",
    "- The average ratings are fairly close across all price buckets (2.79–3.07)\n",
    "- The ≤15 GBP books have the highest average rating (3.08), even though they have the lowest count (106 books)\n",
    "- Mid & higher price buckets (≤30, ≤45, ≤60) don’t show a clear advantage in ratings"
   ]
  },
  {
   "cell_type": "markdown",
   "id": "c5c318ec-caf5-4a49-b538-4f7658d40187",
   "metadata": {},
   "source": [
    "### Recommendations:"
   ]
  },
  {
   "cell_type": "markdown",
   "id": "23c5c637-28ae-49b2-b501-3655b4ecc4e6",
   "metadata": {},
   "source": [
    "- Since Q1 showed no overall correlation between price and ratings, this bucket analysis confirms that paying more doesn’t guarantee higher reviews\n",
    "\n",
    "- However, the cheaper bucket (≤15 GBP) stands out slightly for higher average ratings, suggesting readers don’t punish low-cost books in reviews\n",
    "\n",
    "- **Recommendation:**\n",
    "\n",
    "    - Expand the ≤15 GBP category:\n",
    "        - Since these books have fewer books available (supply gap).\n",
    "        - Those books still achieve slightly higher ratings.\n",
    "\n",
    "    - Increasing selection here could tap into a price-sensitive audience and boost overall sales without hurting quality perception."
   ]
  },
  {
   "cell_type": "markdown",
   "id": "748550df-b9e7-4715-a945-40ce6d70e620",
   "metadata": {},
   "source": [
    "#### Limitations:"
   ]
  },
  {
   "cell_type": "markdown",
   "id": "651a0211-ff79-4958-97fb-72bb4025414e",
   "metadata": {},
   "source": [
    "- This dataset includes synthetic data populated at random, which explains why there is no correlation."
   ]
  }
 ],
 "metadata": {
  "kernelspec": {
   "display_name": "pandasexploration",
   "language": "python",
   "name": "python3"
  },
  "language_info": {
   "codemirror_mode": {
    "name": "ipython",
    "version": 3
   },
   "file_extension": ".py",
   "mimetype": "text/x-python",
   "name": "python",
   "nbconvert_exporter": "python",
   "pygments_lexer": "ipython3",
   "version": "3.13.5"
  }
 },
 "nbformat": 4,
 "nbformat_minor": 5
}
